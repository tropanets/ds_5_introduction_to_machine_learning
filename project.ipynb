{
 "cells": [
  {
   "cell_type": "markdown",
   "metadata": {},
   "source": [
    "# Рекомендация тарифов"
   ]
  },
  {
   "cell_type": "markdown",
   "metadata": {},
   "source": [
    "В нашем распоряжении данные о поведении клиентов, которые уже перешли на эти тарифы (из проекта курса «Статистический анализ данных»).Построим модель для задачи классификации, которая выберет подходящий тариф. Предобработка данных не понадобится — мы её уже сделали.\n",
    "\n",
    "Построим модель с максимально большим значением *accuracy*. Чтобы сдать проект успешно, нужно довести долю правильных ответов по крайней мере до 0.75. Проверим *accuracy* на тестовой выборке самостоятельно."
   ]
  },
  {
   "cell_type": "markdown",
   "metadata": {},
   "source": [
    "## Откройте и изучите файл"
   ]
  },
  {
   "cell_type": "code",
   "execution_count": 1,
   "metadata": {},
   "outputs": [],
   "source": [
    "import pandas as pd\n",
    "import numpy as np\n",
    "import matplotlib.pyplot as plt\n",
    "\n",
    "from sklearn.model_selection import train_test_split\n",
    "from sklearn.metrics import accuracy_score\n",
    "\n",
    "from tqdm import tqdm\n",
    "\n",
    "from sklearn.tree import DecisionTreeClassifier\n",
    "from sklearn.ensemble import RandomForestClassifier\n",
    "from sklearn.linear_model import LogisticRegression"
   ]
  },
  {
   "cell_type": "code",
   "execution_count": 2,
   "metadata": {},
   "outputs": [
    {
     "name": "stdout",
     "output_type": "stream",
     "text": [
      "<class 'pandas.core.frame.DataFrame'>\n",
      "RangeIndex: 3214 entries, 0 to 3213\n",
      "Data columns (total 5 columns):\n",
      " #   Column    Non-Null Count  Dtype  \n",
      "---  ------    --------------  -----  \n",
      " 0   calls     3214 non-null   float64\n",
      " 1   minutes   3214 non-null   float64\n",
      " 2   messages  3214 non-null   float64\n",
      " 3   mb_used   3214 non-null   float64\n",
      " 4   is_ultra  3214 non-null   int64  \n",
      "dtypes: float64(4), int64(1)\n",
      "memory usage: 125.7 KB\n"
     ]
    },
    {
     "data": {
      "text/html": [
       "<div>\n",
       "<style scoped>\n",
       "    .dataframe tbody tr th:only-of-type {\n",
       "        vertical-align: middle;\n",
       "    }\n",
       "\n",
       "    .dataframe tbody tr th {\n",
       "        vertical-align: top;\n",
       "    }\n",
       "\n",
       "    .dataframe thead th {\n",
       "        text-align: right;\n",
       "    }\n",
       "</style>\n",
       "<table border=\"1\" class=\"dataframe\">\n",
       "  <thead>\n",
       "    <tr style=\"text-align: right;\">\n",
       "      <th></th>\n",
       "      <th>calls</th>\n",
       "      <th>minutes</th>\n",
       "      <th>messages</th>\n",
       "      <th>mb_used</th>\n",
       "      <th>is_ultra</th>\n",
       "    </tr>\n",
       "  </thead>\n",
       "  <tbody>\n",
       "    <tr>\n",
       "      <th>0</th>\n",
       "      <td>40.0</td>\n",
       "      <td>311.90</td>\n",
       "      <td>83.0</td>\n",
       "      <td>19915.42</td>\n",
       "      <td>0</td>\n",
       "    </tr>\n",
       "    <tr>\n",
       "      <th>1</th>\n",
       "      <td>85.0</td>\n",
       "      <td>516.75</td>\n",
       "      <td>56.0</td>\n",
       "      <td>22696.96</td>\n",
       "      <td>0</td>\n",
       "    </tr>\n",
       "    <tr>\n",
       "      <th>2</th>\n",
       "      <td>77.0</td>\n",
       "      <td>467.66</td>\n",
       "      <td>86.0</td>\n",
       "      <td>21060.45</td>\n",
       "      <td>0</td>\n",
       "    </tr>\n",
       "    <tr>\n",
       "      <th>3</th>\n",
       "      <td>106.0</td>\n",
       "      <td>745.53</td>\n",
       "      <td>81.0</td>\n",
       "      <td>8437.39</td>\n",
       "      <td>1</td>\n",
       "    </tr>\n",
       "    <tr>\n",
       "      <th>4</th>\n",
       "      <td>66.0</td>\n",
       "      <td>418.74</td>\n",
       "      <td>1.0</td>\n",
       "      <td>14502.75</td>\n",
       "      <td>0</td>\n",
       "    </tr>\n",
       "    <tr>\n",
       "      <th>5</th>\n",
       "      <td>58.0</td>\n",
       "      <td>344.56</td>\n",
       "      <td>21.0</td>\n",
       "      <td>15823.37</td>\n",
       "      <td>0</td>\n",
       "    </tr>\n",
       "    <tr>\n",
       "      <th>6</th>\n",
       "      <td>57.0</td>\n",
       "      <td>431.64</td>\n",
       "      <td>20.0</td>\n",
       "      <td>3738.90</td>\n",
       "      <td>1</td>\n",
       "    </tr>\n",
       "    <tr>\n",
       "      <th>7</th>\n",
       "      <td>15.0</td>\n",
       "      <td>132.40</td>\n",
       "      <td>6.0</td>\n",
       "      <td>21911.60</td>\n",
       "      <td>0</td>\n",
       "    </tr>\n",
       "    <tr>\n",
       "      <th>8</th>\n",
       "      <td>7.0</td>\n",
       "      <td>43.39</td>\n",
       "      <td>3.0</td>\n",
       "      <td>2538.67</td>\n",
       "      <td>1</td>\n",
       "    </tr>\n",
       "    <tr>\n",
       "      <th>9</th>\n",
       "      <td>90.0</td>\n",
       "      <td>665.41</td>\n",
       "      <td>38.0</td>\n",
       "      <td>17358.61</td>\n",
       "      <td>0</td>\n",
       "    </tr>\n",
       "  </tbody>\n",
       "</table>\n",
       "</div>"
      ],
      "text/plain": [
       "   calls  minutes  messages   mb_used  is_ultra\n",
       "0   40.0   311.90      83.0  19915.42         0\n",
       "1   85.0   516.75      56.0  22696.96         0\n",
       "2   77.0   467.66      86.0  21060.45         0\n",
       "3  106.0   745.53      81.0   8437.39         1\n",
       "4   66.0   418.74       1.0  14502.75         0\n",
       "5   58.0   344.56      21.0  15823.37         0\n",
       "6   57.0   431.64      20.0   3738.90         1\n",
       "7   15.0   132.40       6.0  21911.60         0\n",
       "8    7.0    43.39       3.0   2538.67         1\n",
       "9   90.0   665.41      38.0  17358.61         0"
      ]
     },
     "execution_count": 2,
     "metadata": {},
     "output_type": "execute_result"
    }
   ],
   "source": [
    "df = pd.read_csv('/datasets/users_behavior.csv')\n",
    "df.info()\n",
    "df.head(10)"
   ]
  },
  {
   "cell_type": "markdown",
   "metadata": {},
   "source": [
    "## Разбейте данные на выборки"
   ]
  },
  {
   "cell_type": "code",
   "execution_count": 3,
   "metadata": {},
   "outputs": [],
   "source": [
    "#df_train, df_valid = train_test_split(df, test_size=0.4, random_state=12345)\n",
    "#df_valid, df_test = train_test_split(df_valid, test_size=0.5, random_state=12345)"
   ]
  },
  {
   "cell_type": "code",
   "execution_count": 4,
   "metadata": {},
   "outputs": [],
   "source": [
    "x = df.loc[:,~df.columns.isin([\"is_ultra\"])]\n",
    "y = df[\"is_ultra\"]"
   ]
  },
  {
   "cell_type": "code",
   "execution_count": 5,
   "metadata": {},
   "outputs": [],
   "source": [
    "x_train, x_test, y_train, y_test = train_test_split(x,\n",
    "                                                    y, \n",
    "                                                    test_size = 0.4,\n",
    "                                                    random_state = 12345,\n",
    "                                                    stratify=y)"
   ]
  },
  {
   "cell_type": "code",
   "execution_count": 6,
   "metadata": {},
   "outputs": [],
   "source": [
    "x_valid, x_test, y_valid, y_test = train_test_split(x_test,\n",
    "                                                    y_test,\n",
    "                                                    test_size = 0.5,\n",
    "                                                    random_state = 12345,\n",
    "                                                    stratify=y_test)"
   ]
  },
  {
   "cell_type": "code",
   "execution_count": 7,
   "metadata": {},
   "outputs": [],
   "source": [
    "#x_train = df_train.drop('is_ultra', axis=1)\n",
    "#y_train = df_train['is_ultra']\n",
    "\n",
    "#x_valid = df_valid.drop('is_ultra', axis=1)\n",
    "#y_valid = df_valid['is_ultra']\n",
    "\n",
    "#x_test = df_test.drop('is_ultra', axis=1)\n",
    "#y_test = df_test['is_ultra']"
   ]
  },
  {
   "cell_type": "code",
   "execution_count": 8,
   "metadata": {},
   "outputs": [
    {
     "name": "stdout",
     "output_type": "stream",
     "text": [
      "(1928, 4)\n",
      "(643, 4)\n",
      "(643, 4)\n"
     ]
    }
   ],
   "source": [
    "print(x_train.shape)\n",
    "print(x_test.shape)\n",
    "print(x_valid.shape)"
   ]
  },
  {
   "cell_type": "markdown",
   "metadata": {},
   "source": [
    "## Исследуйте модели"
   ]
  },
  {
   "cell_type": "code",
   "execution_count": 9,
   "metadata": {},
   "outputs": [
    {
     "data": {
      "image/png": "[encoded data removed]",
      "text/plain": [
       "<Figure size 720x1440 with 5 Axes>"
      ]
     },
     "metadata": {
      "needs_background": "light"
     },
     "output_type": "display_data"
    }
   ],
   "source": [
    "fig, subplots = plt.subplots(nrows=5, ncols=1, figsize=(10, 20))\n",
    "\n",
    "columns = df.columns\n",
    "i = -1\n",
    "for ax in fig.axes:\n",
    "    i += 1\n",
    "    ax.hist(df[columns[i]], bins=100)\n",
    "    \n",
    "    ax.set_title(columns[i], fontsize=18, fontweight=\"bold\")\n",
    "    ax.set_xlabel('values of ' + columns[i], fontsize=14)\n",
    "    ax.set_ylabel('frequency', fontsize=14)\n",
    "    \n",
    "plt.tight_layout(h_pad = 5)\n",
    "\n",
    "plt.show()"
   ]
  },
  {
   "cell_type": "markdown",
   "metadata": {},
   "source": [
    "Как видно из графиков в столбцах \"calls\", \"minutes\" и \"messages\" довольно много нулевых значений.\n",
    "\n",
    "Посмотрим на данные в нулевыми значениями в столбцах \"calls\", \"minutes\" и \"messages\""
   ]
  },
  {
   "cell_type": "code",
   "execution_count": 10,
   "metadata": {},
   "outputs": [
    {
     "data": {
      "text/html": [
       "<div>\n",
       "<style scoped>\n",
       "    .dataframe tbody tr th:only-of-type {\n",
       "        vertical-align: middle;\n",
       "    }\n",
       "\n",
       "    .dataframe tbody tr th {\n",
       "        vertical-align: top;\n",
       "    }\n",
       "\n",
       "    .dataframe thead th {\n",
       "        text-align: right;\n",
       "    }\n",
       "</style>\n",
       "<table border=\"1\" class=\"dataframe\">\n",
       "  <thead>\n",
       "    <tr style=\"text-align: right;\">\n",
       "      <th></th>\n",
       "      <th>calls</th>\n",
       "      <th>minutes</th>\n",
       "      <th>messages</th>\n",
       "      <th>mb_used</th>\n",
       "      <th>is_ultra</th>\n",
       "    </tr>\n",
       "  </thead>\n",
       "  <tbody>\n",
       "    <tr>\n",
       "      <th>54</th>\n",
       "      <td>0.0</td>\n",
       "      <td>0.0</td>\n",
       "      <td>33.0</td>\n",
       "      <td>14010.33</td>\n",
       "      <td>1</td>\n",
       "    </tr>\n",
       "    <tr>\n",
       "      <th>247</th>\n",
       "      <td>0.0</td>\n",
       "      <td>0.0</td>\n",
       "      <td>35.0</td>\n",
       "      <td>16444.99</td>\n",
       "      <td>1</td>\n",
       "    </tr>\n",
       "    <tr>\n",
       "      <th>264</th>\n",
       "      <td>0.0</td>\n",
       "      <td>0.0</td>\n",
       "      <td>21.0</td>\n",
       "      <td>19559.55</td>\n",
       "      <td>0</td>\n",
       "    </tr>\n",
       "    <tr>\n",
       "      <th>351</th>\n",
       "      <td>0.0</td>\n",
       "      <td>0.0</td>\n",
       "      <td>8.0</td>\n",
       "      <td>35525.61</td>\n",
       "      <td>1</td>\n",
       "    </tr>\n",
       "    <tr>\n",
       "      <th>390</th>\n",
       "      <td>0.0</td>\n",
       "      <td>0.0</td>\n",
       "      <td>25.0</td>\n",
       "      <td>19088.67</td>\n",
       "      <td>1</td>\n",
       "    </tr>\n",
       "    <tr>\n",
       "      <th>484</th>\n",
       "      <td>0.0</td>\n",
       "      <td>0.0</td>\n",
       "      <td>191.0</td>\n",
       "      <td>32448.02</td>\n",
       "      <td>1</td>\n",
       "    </tr>\n",
       "    <tr>\n",
       "      <th>551</th>\n",
       "      <td>0.0</td>\n",
       "      <td>0.0</td>\n",
       "      <td>24.0</td>\n",
       "      <td>18701.54</td>\n",
       "      <td>1</td>\n",
       "    </tr>\n",
       "    <tr>\n",
       "      <th>647</th>\n",
       "      <td>0.0</td>\n",
       "      <td>0.0</td>\n",
       "      <td>30.0</td>\n",
       "      <td>10236.20</td>\n",
       "      <td>1</td>\n",
       "    </tr>\n",
       "    <tr>\n",
       "      <th>769</th>\n",
       "      <td>0.0</td>\n",
       "      <td>0.0</td>\n",
       "      <td>32.0</td>\n",
       "      <td>17206.44</td>\n",
       "      <td>0</td>\n",
       "    </tr>\n",
       "    <tr>\n",
       "      <th>884</th>\n",
       "      <td>0.0</td>\n",
       "      <td>0.0</td>\n",
       "      <td>180.0</td>\n",
       "      <td>32045.73</td>\n",
       "      <td>1</td>\n",
       "    </tr>\n",
       "    <tr>\n",
       "      <th>951</th>\n",
       "      <td>0.0</td>\n",
       "      <td>0.0</td>\n",
       "      <td>185.0</td>\n",
       "      <td>31032.94</td>\n",
       "      <td>1</td>\n",
       "    </tr>\n",
       "    <tr>\n",
       "      <th>1040</th>\n",
       "      <td>0.0</td>\n",
       "      <td>0.0</td>\n",
       "      <td>29.0</td>\n",
       "      <td>21289.28</td>\n",
       "      <td>1</td>\n",
       "    </tr>\n",
       "    <tr>\n",
       "      <th>1094</th>\n",
       "      <td>0.0</td>\n",
       "      <td>0.0</td>\n",
       "      <td>35.0</td>\n",
       "      <td>17322.59</td>\n",
       "      <td>0</td>\n",
       "    </tr>\n",
       "    <tr>\n",
       "      <th>1103</th>\n",
       "      <td>0.0</td>\n",
       "      <td>0.0</td>\n",
       "      <td>201.0</td>\n",
       "      <td>27825.95</td>\n",
       "      <td>1</td>\n",
       "    </tr>\n",
       "    <tr>\n",
       "      <th>1238</th>\n",
       "      <td>0.0</td>\n",
       "      <td>0.0</td>\n",
       "      <td>30.0</td>\n",
       "      <td>20016.75</td>\n",
       "      <td>1</td>\n",
       "    </tr>\n",
       "    <tr>\n",
       "      <th>1248</th>\n",
       "      <td>0.0</td>\n",
       "      <td>0.0</td>\n",
       "      <td>20.0</td>\n",
       "      <td>18418.27</td>\n",
       "      <td>1</td>\n",
       "    </tr>\n",
       "    <tr>\n",
       "      <th>1351</th>\n",
       "      <td>0.0</td>\n",
       "      <td>0.0</td>\n",
       "      <td>9.0</td>\n",
       "      <td>2923.50</td>\n",
       "      <td>1</td>\n",
       "    </tr>\n",
       "    <tr>\n",
       "      <th>1448</th>\n",
       "      <td>0.0</td>\n",
       "      <td>0.0</td>\n",
       "      <td>7.0</td>\n",
       "      <td>39419.77</td>\n",
       "      <td>1</td>\n",
       "    </tr>\n",
       "    <tr>\n",
       "      <th>1533</th>\n",
       "      <td>0.0</td>\n",
       "      <td>0.0</td>\n",
       "      <td>188.0</td>\n",
       "      <td>33189.50</td>\n",
       "      <td>1</td>\n",
       "    </tr>\n",
       "    <tr>\n",
       "      <th>1598</th>\n",
       "      <td>0.0</td>\n",
       "      <td>0.0</td>\n",
       "      <td>28.0</td>\n",
       "      <td>16573.03</td>\n",
       "      <td>1</td>\n",
       "    </tr>\n",
       "    <tr>\n",
       "      <th>1649</th>\n",
       "      <td>0.0</td>\n",
       "      <td>0.0</td>\n",
       "      <td>211.0</td>\n",
       "      <td>27695.86</td>\n",
       "      <td>1</td>\n",
       "    </tr>\n",
       "    <tr>\n",
       "      <th>1669</th>\n",
       "      <td>0.0</td>\n",
       "      <td>0.0</td>\n",
       "      <td>19.0</td>\n",
       "      <td>17289.88</td>\n",
       "      <td>1</td>\n",
       "    </tr>\n",
       "    <tr>\n",
       "      <th>1743</th>\n",
       "      <td>0.0</td>\n",
       "      <td>0.0</td>\n",
       "      <td>20.0</td>\n",
       "      <td>13688.68</td>\n",
       "      <td>1</td>\n",
       "    </tr>\n",
       "    <tr>\n",
       "      <th>1755</th>\n",
       "      <td>0.0</td>\n",
       "      <td>0.0</td>\n",
       "      <td>48.0</td>\n",
       "      <td>12442.93</td>\n",
       "      <td>0</td>\n",
       "    </tr>\n",
       "    <tr>\n",
       "      <th>1841</th>\n",
       "      <td>0.0</td>\n",
       "      <td>0.0</td>\n",
       "      <td>30.0</td>\n",
       "      <td>10703.39</td>\n",
       "      <td>1</td>\n",
       "    </tr>\n",
       "    <tr>\n",
       "      <th>1876</th>\n",
       "      <td>0.0</td>\n",
       "      <td>0.0</td>\n",
       "      <td>173.0</td>\n",
       "      <td>27431.66</td>\n",
       "      <td>1</td>\n",
       "    </tr>\n",
       "    <tr>\n",
       "      <th>1880</th>\n",
       "      <td>0.0</td>\n",
       "      <td>0.0</td>\n",
       "      <td>44.0</td>\n",
       "      <td>15644.73</td>\n",
       "      <td>1</td>\n",
       "    </tr>\n",
       "    <tr>\n",
       "      <th>1921</th>\n",
       "      <td>0.0</td>\n",
       "      <td>0.0</td>\n",
       "      <td>14.0</td>\n",
       "      <td>21673.83</td>\n",
       "      <td>1</td>\n",
       "    </tr>\n",
       "    <tr>\n",
       "      <th>2155</th>\n",
       "      <td>0.0</td>\n",
       "      <td>0.0</td>\n",
       "      <td>24.0</td>\n",
       "      <td>21626.90</td>\n",
       "      <td>1</td>\n",
       "    </tr>\n",
       "    <tr>\n",
       "      <th>2207</th>\n",
       "      <td>0.0</td>\n",
       "      <td>0.0</td>\n",
       "      <td>32.0</td>\n",
       "      <td>16597.13</td>\n",
       "      <td>1</td>\n",
       "    </tr>\n",
       "    <tr>\n",
       "      <th>2256</th>\n",
       "      <td>0.0</td>\n",
       "      <td>0.0</td>\n",
       "      <td>42.0</td>\n",
       "      <td>13280.45</td>\n",
       "      <td>1</td>\n",
       "    </tr>\n",
       "    <tr>\n",
       "      <th>2291</th>\n",
       "      <td>0.0</td>\n",
       "      <td>0.0</td>\n",
       "      <td>28.0</td>\n",
       "      <td>11864.26</td>\n",
       "      <td>1</td>\n",
       "    </tr>\n",
       "    <tr>\n",
       "      <th>2682</th>\n",
       "      <td>0.0</td>\n",
       "      <td>0.0</td>\n",
       "      <td>23.0</td>\n",
       "      <td>21934.04</td>\n",
       "      <td>1</td>\n",
       "    </tr>\n",
       "    <tr>\n",
       "      <th>2879</th>\n",
       "      <td>0.0</td>\n",
       "      <td>0.0</td>\n",
       "      <td>6.0</td>\n",
       "      <td>22428.00</td>\n",
       "      <td>1</td>\n",
       "    </tr>\n",
       "    <tr>\n",
       "      <th>2943</th>\n",
       "      <td>0.0</td>\n",
       "      <td>0.0</td>\n",
       "      <td>17.0</td>\n",
       "      <td>12905.41</td>\n",
       "      <td>1</td>\n",
       "    </tr>\n",
       "    <tr>\n",
       "      <th>2958</th>\n",
       "      <td>0.0</td>\n",
       "      <td>0.0</td>\n",
       "      <td>20.0</td>\n",
       "      <td>17491.66</td>\n",
       "      <td>0</td>\n",
       "    </tr>\n",
       "    <tr>\n",
       "      <th>2962</th>\n",
       "      <td>0.0</td>\n",
       "      <td>0.0</td>\n",
       "      <td>17.0</td>\n",
       "      <td>11050.62</td>\n",
       "      <td>0</td>\n",
       "    </tr>\n",
       "    <tr>\n",
       "      <th>2973</th>\n",
       "      <td>0.0</td>\n",
       "      <td>0.0</td>\n",
       "      <td>31.0</td>\n",
       "      <td>12633.89</td>\n",
       "      <td>1</td>\n",
       "    </tr>\n",
       "    <tr>\n",
       "      <th>3107</th>\n",
       "      <td>0.0</td>\n",
       "      <td>0.0</td>\n",
       "      <td>0.0</td>\n",
       "      <td>530.78</td>\n",
       "      <td>1</td>\n",
       "    </tr>\n",
       "    <tr>\n",
       "      <th>3200</th>\n",
       "      <td>0.0</td>\n",
       "      <td>0.0</td>\n",
       "      <td>55.0</td>\n",
       "      <td>10858.90</td>\n",
       "      <td>1</td>\n",
       "    </tr>\n",
       "  </tbody>\n",
       "</table>\n",
       "</div>"
      ],
      "text/plain": [
       "      calls  minutes  messages   mb_used  is_ultra\n",
       "54      0.0      0.0      33.0  14010.33         1\n",
       "247     0.0      0.0      35.0  16444.99         1\n",
       "264     0.0      0.0      21.0  19559.55         0\n",
       "351     0.0      0.0       8.0  35525.61         1\n",
       "390     0.0      0.0      25.0  19088.67         1\n",
       "484     0.0      0.0     191.0  32448.02         1\n",
       "551     0.0      0.0      24.0  18701.54         1\n",
       "647     0.0      0.0      30.0  10236.20         1\n",
       "769     0.0      0.0      32.0  17206.44         0\n",
       "884     0.0      0.0     180.0  32045.73         1\n",
       "951     0.0      0.0     185.0  31032.94         1\n",
       "1040    0.0      0.0      29.0  21289.28         1\n",
       "1094    0.0      0.0      35.0  17322.59         0\n",
       "1103    0.0      0.0     201.0  27825.95         1\n",
       "1238    0.0      0.0      30.0  20016.75         1\n",
       "1248    0.0      0.0      20.0  18418.27         1\n",
       "1351    0.0      0.0       9.0   2923.50         1\n",
       "1448    0.0      0.0       7.0  39419.77         1\n",
       "1533    0.0      0.0     188.0  33189.50         1\n",
       "1598    0.0      0.0      28.0  16573.03         1\n",
       "1649    0.0      0.0     211.0  27695.86         1\n",
       "1669    0.0      0.0      19.0  17289.88         1\n",
       "1743    0.0      0.0      20.0  13688.68         1\n",
       "1755    0.0      0.0      48.0  12442.93         0\n",
       "1841    0.0      0.0      30.0  10703.39         1\n",
       "1876    0.0      0.0     173.0  27431.66         1\n",
       "1880    0.0      0.0      44.0  15644.73         1\n",
       "1921    0.0      0.0      14.0  21673.83         1\n",
       "2155    0.0      0.0      24.0  21626.90         1\n",
       "2207    0.0      0.0      32.0  16597.13         1\n",
       "2256    0.0      0.0      42.0  13280.45         1\n",
       "2291    0.0      0.0      28.0  11864.26         1\n",
       "2682    0.0      0.0      23.0  21934.04         1\n",
       "2879    0.0      0.0       6.0  22428.00         1\n",
       "2943    0.0      0.0      17.0  12905.41         1\n",
       "2958    0.0      0.0      20.0  17491.66         0\n",
       "2962    0.0      0.0      17.0  11050.62         0\n",
       "2973    0.0      0.0      31.0  12633.89         1\n",
       "3107    0.0      0.0       0.0    530.78         1\n",
       "3200    0.0      0.0      55.0  10858.90         1"
      ]
     },
     "execution_count": 10,
     "metadata": {},
     "output_type": "execute_result"
    }
   ],
   "source": [
    "df[df['minutes'] == 0]"
   ]
  },
  {
   "cell_type": "markdown",
   "metadata": {},
   "source": [
    "Как мы видим на таблице, в столбцах calls, minutes скорее всего были пропуски и их заменили на 0. В случае с messages, видно что очень мало сообщений, т.к. в наши дни практически все пишут в мессенджерах, а это не messages. messages это SMS. \n",
    "\n",
    "В столбце is_ultra можно заметить, что данные количественно распределены неравномерно между тарифами. Т.е. данных по тарифу Смарт более чем в 2 раза больше чем данных Ультра. Это не очень хорошо, т.к. при разбиении датасета на выборки мы можем получить, например, очень малое количество данных Ультра в обучающей выборке и модель плохо обучится."
   ]
  },
  {
   "cell_type": "markdown",
   "metadata": {},
   "source": [
    "Выделим признаки в отдельный датасет, построим график матрицы рассеяния и вычислим коэффициент корреляции между признаками."
   ]
  },
  {
   "cell_type": "code",
   "execution_count": 11,
   "metadata": {},
   "outputs": [
    {
     "data": {
      "image/png": "[encoded data removed]",
      "text/plain": [
       "<Figure size 648x648 with 16 Axes>"
      ]
     },
     "metadata": {
      "needs_background": "light"
     },
     "output_type": "display_data"
    }
   ],
   "source": [
    "df_features = df.copy()\n",
    "\n",
    "del df_features['is_ultra']\n",
    "\n",
    "pd.plotting.scatter_matrix(df_features, figsize=(9, 9))\n",
    "\n",
    "plt.show()"
   ]
  },
  {
   "cell_type": "code",
   "execution_count": 12,
   "metadata": {},
   "outputs": [
    {
     "data": {
      "text/html": [
       "<style  type=\"text/css\" >\n",
       "#T_5e856_row0_col0,#T_5e856_row1_col1,#T_5e856_row2_col2,#T_5e856_row3_col3{\n",
       "            background-color:  #b40426;\n",
       "            color:  #f1f1f1;\n",
       "        }#T_5e856_row0_col1,#T_5e856_row1_col0{\n",
       "            background-color:  #bd1f2d;\n",
       "            color:  #f1f1f1;\n",
       "        }#T_5e856_row0_col2{\n",
       "            background-color:  #3e51c5;\n",
       "            color:  #f1f1f1;\n",
       "        }#T_5e856_row0_col3{\n",
       "            background-color:  #5d7ce6;\n",
       "            color:  #000000;\n",
       "        }#T_5e856_row1_col2,#T_5e856_row2_col0,#T_5e856_row2_col1,#T_5e856_row2_col3{\n",
       "            background-color:  #3b4cc0;\n",
       "            color:  #f1f1f1;\n",
       "        }#T_5e856_row1_col3{\n",
       "            background-color:  #5977e3;\n",
       "            color:  #000000;\n",
       "        }#T_5e856_row3_col0{\n",
       "            background-color:  #6485ec;\n",
       "            color:  #000000;\n",
       "        }#T_5e856_row3_col1{\n",
       "            background-color:  #6384eb;\n",
       "            color:  #000000;\n",
       "        }#T_5e856_row3_col2{\n",
       "            background-color:  #455cce;\n",
       "            color:  #f1f1f1;\n",
       "        }</style><table id=\"T_5e856_\" ><thead>    <tr>        <th class=\"blank level0\" ></th>        <th class=\"col_heading level0 col0\" >calls</th>        <th class=\"col_heading level0 col1\" >minutes</th>        <th class=\"col_heading level0 col2\" >messages</th>        <th class=\"col_heading level0 col3\" >mb_used</th>    </tr></thead><tbody>\n",
       "                <tr>\n",
       "                        <th id=\"T_5e856_level0_row0\" class=\"row_heading level0 row0\" >calls</th>\n",
       "                        <td id=\"T_5e856_row0_col0\" class=\"data row0 col0\" >1.000000</td>\n",
       "                        <td id=\"T_5e856_row0_col1\" class=\"data row0 col1\" >0.980000</td>\n",
       "                        <td id=\"T_5e856_row0_col2\" class=\"data row0 col2\" >0.180000</td>\n",
       "                        <td id=\"T_5e856_row0_col3\" class=\"data row0 col3\" >0.290000</td>\n",
       "            </tr>\n",
       "            <tr>\n",
       "                        <th id=\"T_5e856_level0_row1\" class=\"row_heading level0 row1\" >minutes</th>\n",
       "                        <td id=\"T_5e856_row1_col0\" class=\"data row1 col0\" >0.980000</td>\n",
       "                        <td id=\"T_5e856_row1_col1\" class=\"data row1 col1\" >1.000000</td>\n",
       "                        <td id=\"T_5e856_row1_col2\" class=\"data row1 col2\" >0.170000</td>\n",
       "                        <td id=\"T_5e856_row1_col3\" class=\"data row1 col3\" >0.280000</td>\n",
       "            </tr>\n",
       "            <tr>\n",
       "                        <th id=\"T_5e856_level0_row2\" class=\"row_heading level0 row2\" >messages</th>\n",
       "                        <td id=\"T_5e856_row2_col0\" class=\"data row2 col0\" >0.180000</td>\n",
       "                        <td id=\"T_5e856_row2_col1\" class=\"data row2 col1\" >0.170000</td>\n",
       "                        <td id=\"T_5e856_row2_col2\" class=\"data row2 col2\" >1.000000</td>\n",
       "                        <td id=\"T_5e856_row2_col3\" class=\"data row2 col3\" >0.200000</td>\n",
       "            </tr>\n",
       "            <tr>\n",
       "                        <th id=\"T_5e856_level0_row3\" class=\"row_heading level0 row3\" >mb_used</th>\n",
       "                        <td id=\"T_5e856_row3_col0\" class=\"data row3 col0\" >0.290000</td>\n",
       "                        <td id=\"T_5e856_row3_col1\" class=\"data row3 col1\" >0.280000</td>\n",
       "                        <td id=\"T_5e856_row3_col2\" class=\"data row3 col2\" >0.200000</td>\n",
       "                        <td id=\"T_5e856_row3_col3\" class=\"data row3 col3\" >1.000000</td>\n",
       "            </tr>\n",
       "    </tbody></table>"
      ],
      "text/plain": [
       "<pandas.io.formats.style.Styler at 0x7f2e81e831f0>"
      ]
     },
     "execution_count": 12,
     "metadata": {},
     "output_type": "execute_result"
    }
   ],
   "source": [
    "round(df_features.corr(), 2).style.background_gradient('coolwarm')"
   ]
  },
  {
   "cell_type": "markdown",
   "metadata": {},
   "source": [
    "По графику наблюдается сильная прямая взаимосвязь между количеством совершенных звонков и количеством использованных минут, коэффициент корреляции 0,98. Это логично."
   ]
  },
  {
   "cell_type": "markdown",
   "metadata": {},
   "source": [
    "Исследуем модель DecisionTreeClassifier"
   ]
  },
  {
   "cell_type": "code",
   "execution_count": 13,
   "metadata": {},
   "outputs": [],
   "source": [
    "#for i in range(1, 5):\n",
    "#    dectree_model = DecisionTreeClassifier(max_depth=i, random_state=12345)\n",
    "#    dectree_model.fit(feature_train, target_train)\n",
    "    \n",
    "#    dectree_valid_predictions = dectree_model.predict(feature_valid)\n",
    "#    accuracy = accuracy_score(target_valid, dectree_valid_predictions)\n",
    "#    print(f\"DecisionTreeClassifier. max_depth = {i}; accuracy = {accuracy}\")"
   ]
  },
  {
   "cell_type": "code",
   "execution_count": 14,
   "metadata": {},
   "outputs": [
    {
     "name": "stderr",
     "output_type": "stream",
     "text": [
      "100%|██████████| 48/48 [00:00<00:00, 95.02it/s] \n"
     ]
    }
   ],
   "source": [
    "best_dtc = None\n",
    "best_accuracy_dtc = 0\n",
    "best_depth_dtc = 0\n",
    "for depth in tqdm(range(2,50)):\n",
    "    dtc = DecisionTreeClassifier(random_state = 12345, max_depth = depth)\n",
    "    dtc.fit(x_train, y_train)\n",
    "    prediction_valid_dtc = dtc.predict(x_valid)\n",
    "    accuracy_dtc = accuracy_score(prediction_valid_dtc, y_valid)\n",
    "    if best_accuracy_dtc < accuracy_dtc:\n",
    "        best_dtc = dtc\n",
    "        best_accuracy_dtc = accuracy_dtc\n",
    "        best_depth_dtc = depth"
   ]
  },
  {
   "cell_type": "markdown",
   "metadata": {},
   "source": [
    "Исследуем модель RandomForestClassifier"
   ]
  },
  {
   "cell_type": "code",
   "execution_count": null,
   "metadata": {},
   "outputs": [],
   "source": []
  },
  {
   "cell_type": "code",
   "execution_count": 15,
   "metadata": {},
   "outputs": [],
   "source": [
    "#for i in range(1, 21):\n",
    "#    randforest_model = RandomForestClassifier(random_state=12345, n_estimators=i)\n",
    "#    randforest_model.fit(feature_train, target_train)\n",
    "#    randforest_valid_predictions = randforest_model.predict(feature_valid)\n",
    "#    score = accuracy_score(target_valid, randforest_valid_predictions)\n",
    "#    print(f'RandomForestClassifier, estimators={i}, score={score}')"
   ]
  },
  {
   "cell_type": "code",
   "execution_count": 16,
   "metadata": {},
   "outputs": [
    {
     "name": "stderr",
     "output_type": "stream",
     "text": [
      "100%|██████████| 49/49 [01:44<00:00,  2.12s/it]\n"
     ]
    }
   ],
   "source": [
    "best_rfc = None\n",
    "best_accuracy_rfc = 0\n",
    "best_est_rfc = 0\n",
    "best_depth_rfc = 0\n",
    "for est in tqdm(range(2,51)):\n",
    "    for depth in range(2,25):\n",
    "        rfc = RandomForestClassifier(random_state = 12345, n_estimators = est, max_depth = depth)\n",
    "        rfc.fit(x_train, y_train)\n",
    "        prediction_valid_rfc = rfc.predict(x_valid)\n",
    "        accuracy_rfc = accuracy_score(prediction_valid_rfc, y_valid)\n",
    "        if best_accuracy_rfc < accuracy_rfc:\n",
    "            best_rfc = rfc\n",
    "            best_depth_rfc = depth\n",
    "            best_est_rfc = est\n",
    "            best_accuracy_rfc = accuracy_rfc"
   ]
  },
  {
   "cell_type": "markdown",
   "metadata": {},
   "source": [
    "Исследуем модель LogisticRegression"
   ]
  },
  {
   "cell_type": "code",
   "execution_count": 17,
   "metadata": {},
   "outputs": [],
   "source": [
    "#logregr_model = LogisticRegression(random_state=12345)\n",
    "#logregr_model.fit(feature_train, target_train)\n",
    "#logregr_predictions = logregr_model.predict(feature_valid)\n",
    "#score = accuracy_score(target_valid, logregr_predictions)\n",
    "#print('LogisticRegression:', score)"
   ]
  },
  {
   "cell_type": "code",
   "execution_count": 18,
   "metadata": {},
   "outputs": [],
   "source": [
    "lr = LogisticRegression(random_state=12345)\n",
    "lr.fit(x_train,y_train)\n",
    "prediction_valid_lr = lr.predict(x_valid)\n",
    "accuracy_lr = accuracy_score(prediction_valid_lr, y_valid)"
   ]
  },
  {
   "cell_type": "markdown",
   "metadata": {},
   "source": [
    "Сравним все модели. "
   ]
  },
  {
   "cell_type": "code",
   "execution_count": 19,
   "metadata": {},
   "outputs": [
    {
     "name": "stdout",
     "output_type": "stream",
     "text": [
      "DecisionTreeClassifier: 0.80248833592535\n",
      "RandomForestClassifier: 0.8227060653188181\n",
      "LogisticRegression: 0.7387247278382582\n"
     ]
    }
   ],
   "source": [
    "print(f\"DecisionTreeClassifier: {best_accuracy_dtc}\")\n",
    "print(f\"RandomForestClassifier: {best_accuracy_rfc}\")\n",
    "print(f\"LogisticRegression: {accuracy_lr}\")"
   ]
  },
  {
   "cell_type": "markdown",
   "metadata": {},
   "source": [
    "<b>Вывод:</b>\n",
    "Как мы видим, из всех моделей самый высокий показатель точности только у модели RandomForestClassifier. Эту модель мы и используем на тестовой выборке."
   ]
  },
  {
   "cell_type": "markdown",
   "metadata": {},
   "source": [
    "## Проверьте модель на тестовой выборке"
   ]
  },
  {
   "cell_type": "code",
   "execution_count": 49,
   "metadata": {},
   "outputs": [
    {
     "name": "stdout",
     "output_type": "stream",
     "text": [
      "accuracy: 0.8103\n"
     ]
    }
   ],
   "source": [
    "rfc_test = RandomForestClassifier(random_state=12345,\n",
    "                                 n_estimators=15,\n",
    "                                 max_depth=10,\n",
    "                                )\n",
    "\n",
    "rfc_test.fit(x_train, y_train)\n",
    "predictions_rfc_test = rfc_test.predict(x_test)\n",
    "\n",
    "rf_test = round(accuracy_score(y_test, predictions_rfc_test), 4)\n",
    "print('accuracy:', rf_test)"
   ]
  },
  {
   "cell_type": "markdown",
   "metadata": {},
   "source": [
    "81% правильных ответов. В валидном наборе конечно чуть больше, 82%. "
   ]
  },
  {
   "cell_type": "code",
   "execution_count": 50,
   "metadata": {},
   "outputs": [
    {
     "data": {
      "image/png": "[encoded data removed]",
      "text/plain": [
       "<Figure size 432x288 with 1 Axes>"
      ]
     },
     "metadata": {
      "needs_background": "light"
     },
     "output_type": "display_data"
    }
   ],
   "source": [
    "dtc.score(x_test, y_test)\n",
    "rfc.score(x_test, y_test)\n",
    "lr.score(x_test, y_test)\n",
    "pd.DataFrame({'dtc': [dtc.score(x_test, y_test)],\\\n",
    "              'rfc': [rfc.score(x_test, y_test)],\\\n",
    "              'lr': [lr.score(x_test, y_test)],\\\n",
    "              'threshold' :[0.75]\n",
    "             }, index=['accuracy']).plot.bar(ylim=(.68,.81));"
   ]
  },
  {
   "cell_type": "markdown",
   "metadata": {},
   "source": [
    "Наиболее адекватные предсказания делает Random Forest, это видно по точности предсказания на валидационной и на тестовой выборке."
   ]
  },
  {
   "cell_type": "markdown",
   "metadata": {},
   "source": [
    "## (бонус) Проверьте модели на адекватность"
   ]
  },
  {
   "cell_type": "code",
   "execution_count": null,
   "metadata": {},
   "outputs": [],
   "source": [
    "df['is_ultra'].value_counts(normalize=True)"
   ]
  },
  {
   "cell_type": "markdown",
   "metadata": {},
   "source": [
    "accuracy модели, использующей случайное предсказание тарифа составляет 0.69, а у нашей модели составляет 0.79, что говорит о том, что она адекватней случайного угадывания."
   ]
  }
 ],
 "metadata": {
  "ExecuteTimeLog": [
   {
    "duration": 1164,
    "start_time": "2022-09-21T14:26:47.898Z"
   },
   {
    "duration": 44,
    "start_time": "2022-09-21T14:27:06.198Z"
   },
   {
    "duration": 71,
    "start_time": "2022-09-21T14:27:14.260Z"
   },
   {
    "duration": 60,
    "start_time": "2022-09-21T18:32:36.393Z"
   },
   {
    "duration": 102,
    "start_time": "2022-09-21T18:32:38.753Z"
   },
   {
    "duration": 7,
    "start_time": "2022-09-21T18:33:01.668Z"
   },
   {
    "duration": 16,
    "start_time": "2022-09-21T18:33:05.055Z"
   },
   {
    "duration": 7,
    "start_time": "2022-09-21T18:33:59.100Z"
   },
   {
    "duration": 133,
    "start_time": "2022-09-21T18:38:25.249Z"
   },
   {
    "duration": 7,
    "start_time": "2022-09-21T18:38:37.077Z"
   },
   {
    "duration": 9,
    "start_time": "2022-09-21T18:38:47.978Z"
   },
   {
    "duration": 5,
    "start_time": "2022-09-21T18:39:00.972Z"
   },
   {
    "duration": 5,
    "start_time": "2022-09-21T18:39:05.718Z"
   },
   {
    "duration": 9,
    "start_time": "2022-09-21T18:39:54.659Z"
   },
   {
    "duration": 45,
    "start_time": "2022-09-21T18:40:06.563Z"
   },
   {
    "duration": 42,
    "start_time": "2022-09-21T18:40:15.722Z"
   },
   {
    "duration": 2,
    "start_time": "2022-09-21T18:40:17.608Z"
   },
   {
    "duration": 42,
    "start_time": "2022-09-21T18:40:20.274Z"
   },
   {
    "duration": 6,
    "start_time": "2022-09-21T18:40:26.076Z"
   },
   {
    "duration": 5,
    "start_time": "2022-09-21T18:40:26.628Z"
   },
   {
    "duration": 5,
    "start_time": "2022-09-21T18:40:29.666Z"
   },
   {
    "duration": 11,
    "start_time": "2022-09-21T18:40:32.860Z"
   },
   {
    "duration": 13,
    "start_time": "2022-09-21T18:40:38.046Z"
   },
   {
    "duration": 28,
    "start_time": "2022-09-21T18:40:42.491Z"
   },
   {
    "duration": 250,
    "start_time": "2022-09-21T18:42:21.299Z"
   },
   {
    "duration": 31,
    "start_time": "2022-09-21T18:42:49.508Z"
   },
   {
    "duration": 244,
    "start_time": "2022-09-21T18:43:07.524Z"
   },
   {
    "duration": 21,
    "start_time": "2022-09-21T18:44:29.518Z"
   },
   {
    "duration": 29,
    "start_time": "2022-09-21T18:45:05.849Z"
   },
   {
    "duration": 258,
    "start_time": "2022-09-21T18:45:37.782Z"
   },
   {
    "duration": 20,
    "start_time": "2022-09-21T18:45:57.314Z"
   },
   {
    "duration": 29,
    "start_time": "2022-09-21T18:50:15.576Z"
   },
   {
    "duration": 264,
    "start_time": "2022-09-21T18:50:16.768Z"
   },
   {
    "duration": 18,
    "start_time": "2022-09-21T18:50:27.710Z"
   },
   {
    "duration": 202,
    "start_time": "2022-09-21T18:51:21.648Z"
   },
   {
    "duration": 8,
    "start_time": "2022-09-21T18:52:04.283Z"
   },
   {
    "duration": 8,
    "start_time": "2022-09-21T18:52:12.857Z"
   },
   {
    "duration": 10,
    "start_time": "2022-09-21T18:54:07.832Z"
   },
   {
    "duration": 73,
    "start_time": "2022-09-21T18:56:33.275Z"
   },
   {
    "duration": 9,
    "start_time": "2022-09-21T19:00:10.757Z"
   },
   {
    "duration": 9,
    "start_time": "2022-09-21T19:00:46.258Z"
   },
   {
    "duration": 16,
    "start_time": "2022-09-21T19:01:02.771Z"
   },
   {
    "duration": 15,
    "start_time": "2022-09-21T19:01:22.281Z"
   },
   {
    "duration": 11,
    "start_time": "2022-09-21T19:01:53.272Z"
   },
   {
    "duration": 10,
    "start_time": "2022-09-21T19:02:11.384Z"
   },
   {
    "duration": 23,
    "start_time": "2022-09-21T19:02:24.501Z"
   },
   {
    "duration": 10,
    "start_time": "2022-09-21T19:02:35.235Z"
   },
   {
    "duration": 8,
    "start_time": "2022-09-21T19:02:39.392Z"
   },
   {
    "duration": 10,
    "start_time": "2022-09-21T19:02:43.533Z"
   },
   {
    "duration": 10,
    "start_time": "2022-09-21T19:02:48.485Z"
   },
   {
    "duration": 11,
    "start_time": "2022-09-21T19:02:51.354Z"
   },
   {
    "duration": 10,
    "start_time": "2022-09-21T19:02:55.127Z"
   },
   {
    "duration": 9,
    "start_time": "2022-09-21T19:02:57.666Z"
   },
   {
    "duration": 29,
    "start_time": "2022-09-21T19:03:02.252Z"
   },
   {
    "duration": 8,
    "start_time": "2022-09-21T19:03:15.636Z"
   },
   {
    "duration": 9,
    "start_time": "2022-09-21T19:03:18.381Z"
   },
   {
    "duration": 10,
    "start_time": "2022-09-21T19:03:20.994Z"
   },
   {
    "duration": 14,
    "start_time": "2022-09-21T19:03:23.572Z"
   },
   {
    "duration": 14,
    "start_time": "2022-09-21T19:03:26.651Z"
   },
   {
    "duration": 11,
    "start_time": "2022-09-21T19:03:29.174Z"
   },
   {
    "duration": 10,
    "start_time": "2022-09-21T19:08:24.012Z"
   },
   {
    "duration": 11,
    "start_time": "2022-09-21T19:08:29.591Z"
   },
   {
    "duration": 18,
    "start_time": "2022-09-21T19:08:57.894Z"
   },
   {
    "duration": 19,
    "start_time": "2022-09-21T19:09:03.972Z"
   },
   {
    "duration": 22,
    "start_time": "2022-09-21T19:09:14.476Z"
   },
   {
    "duration": 30,
    "start_time": "2022-09-21T19:09:37.679Z"
   },
   {
    "duration": 30,
    "start_time": "2022-09-21T19:09:43.171Z"
   },
   {
    "duration": 29,
    "start_time": "2022-09-21T19:09:45.161Z"
   },
   {
    "duration": 30,
    "start_time": "2022-09-21T19:09:53.562Z"
   },
   {
    "duration": 29,
    "start_time": "2022-09-21T19:10:10.296Z"
   },
   {
    "duration": 1073,
    "start_time": "2022-09-21T19:10:13.856Z"
   },
   {
    "duration": 49,
    "start_time": "2022-09-21T19:10:14.931Z"
   },
   {
    "duration": 7,
    "start_time": "2022-09-21T19:10:14.982Z"
   },
   {
    "duration": 6,
    "start_time": "2022-09-21T19:10:14.991Z"
   },
   {
    "duration": 118,
    "start_time": "2022-09-21T19:10:15.000Z"
   },
   {
    "duration": 0,
    "start_time": "2022-09-21T19:10:15.120Z"
   },
   {
    "duration": 0,
    "start_time": "2022-09-21T19:10:15.122Z"
   },
   {
    "duration": 0,
    "start_time": "2022-09-21T19:10:15.123Z"
   },
   {
    "duration": 0,
    "start_time": "2022-09-21T19:10:15.124Z"
   },
   {
    "duration": 36,
    "start_time": "2022-09-21T19:10:46.490Z"
   },
   {
    "duration": 1164,
    "start_time": "2022-09-21T19:11:04.889Z"
   },
   {
    "duration": 51,
    "start_time": "2022-09-21T19:11:06.055Z"
   },
   {
    "duration": 4,
    "start_time": "2022-09-21T19:11:06.112Z"
   },
   {
    "duration": 5,
    "start_time": "2022-09-21T19:11:06.118Z"
   },
   {
    "duration": 32,
    "start_time": "2022-09-21T19:11:06.125Z"
   },
   {
    "duration": 294,
    "start_time": "2022-09-21T19:11:06.159Z"
   },
   {
    "duration": 20,
    "start_time": "2022-09-21T19:11:06.455Z"
   },
   {
    "duration": 10,
    "start_time": "2022-09-21T19:11:06.478Z"
   },
   {
    "duration": 6,
    "start_time": "2022-09-21T19:11:06.509Z"
   },
   {
    "duration": 10,
    "start_time": "2022-09-21T19:11:29.693Z"
   },
   {
    "duration": 9,
    "start_time": "2022-09-21T19:11:38.174Z"
   },
   {
    "duration": 11,
    "start_time": "2022-09-21T19:11:43.659Z"
   },
   {
    "duration": 11,
    "start_time": "2022-09-21T19:11:46.988Z"
   },
   {
    "duration": 80,
    "start_time": "2022-09-21T19:12:14.614Z"
   },
   {
    "duration": 28,
    "start_time": "2022-09-21T19:12:27.792Z"
   },
   {
    "duration": 831,
    "start_time": "2022-09-21T19:12:39.455Z"
   },
   {
    "duration": 916,
    "start_time": "2022-09-21T19:12:49.220Z"
   },
   {
    "duration": 70,
    "start_time": "2022-09-21T19:13:00.130Z"
   },
   {
    "duration": 174,
    "start_time": "2022-09-21T19:13:06.524Z"
   },
   {
    "duration": 79,
    "start_time": "2022-09-21T19:13:50.710Z"
   },
   {
    "duration": 85,
    "start_time": "2022-09-21T19:14:03.419Z"
   },
   {
    "duration": 256,
    "start_time": "2022-09-21T19:14:08.428Z"
   },
   {
    "duration": 31,
    "start_time": "2022-09-21T19:14:13.690Z"
   },
   {
    "duration": 198,
    "start_time": "2022-09-21T19:14:18.868Z"
   },
   {
    "duration": 929,
    "start_time": "2022-09-21T19:16:46.194Z"
   },
   {
    "duration": 105,
    "start_time": "2022-09-21T19:17:34.009Z"
   },
   {
    "duration": 85,
    "start_time": "2022-09-21T19:17:37.963Z"
   },
   {
    "duration": 98,
    "start_time": "2022-09-21T19:17:41.775Z"
   },
   {
    "duration": 67,
    "start_time": "2022-09-21T19:17:46.955Z"
   },
   {
    "duration": 1534,
    "start_time": "2022-09-21T19:31:46.215Z"
   },
   {
    "duration": 65,
    "start_time": "2022-09-21T19:31:47.751Z"
   },
   {
    "duration": 8,
    "start_time": "2022-09-21T19:31:47.818Z"
   },
   {
    "duration": 10,
    "start_time": "2022-09-21T19:31:47.828Z"
   },
   {
    "duration": 37,
    "start_time": "2022-09-21T19:31:47.839Z"
   },
   {
    "duration": 1053,
    "start_time": "2022-09-21T19:31:47.878Z"
   },
   {
    "duration": 27,
    "start_time": "2022-09-21T19:31:48.934Z"
   },
   {
    "duration": 92,
    "start_time": "2022-09-21T19:31:48.963Z"
   },
   {
    "duration": 7,
    "start_time": "2022-09-21T19:31:49.057Z"
   },
   {
    "duration": 52,
    "start_time": "2022-09-22T05:59:49.540Z"
   },
   {
    "duration": 1088,
    "start_time": "2022-09-22T05:59:54.410Z"
   },
   {
    "duration": 50,
    "start_time": "2022-09-22T05:59:55.500Z"
   },
   {
    "duration": 5,
    "start_time": "2022-09-22T05:59:55.552Z"
   },
   {
    "duration": 10,
    "start_time": "2022-09-22T05:59:55.558Z"
   },
   {
    "duration": 34,
    "start_time": "2022-09-22T05:59:55.569Z"
   },
   {
    "duration": 893,
    "start_time": "2022-09-22T05:59:55.604Z"
   },
   {
    "duration": 26,
    "start_time": "2022-09-22T05:59:56.499Z"
   },
   {
    "duration": 83,
    "start_time": "2022-09-22T05:59:56.526Z"
   },
   {
    "duration": 7,
    "start_time": "2022-09-22T05:59:56.610Z"
   },
   {
    "duration": 78,
    "start_time": "2022-09-22T06:00:14.511Z"
   },
   {
    "duration": 68,
    "start_time": "2022-09-22T06:00:21.187Z"
   },
   {
    "duration": 79,
    "start_time": "2022-09-22T06:00:25.324Z"
   },
   {
    "duration": 147,
    "start_time": "2022-09-22T06:02:28.312Z"
   },
   {
    "duration": 5,
    "start_time": "2022-09-22T06:02:43.816Z"
   },
   {
    "duration": 9,
    "start_time": "2022-09-22T06:04:33.153Z"
   },
   {
    "duration": 14,
    "start_time": "2022-09-22T06:05:37.159Z"
   },
   {
    "duration": 13,
    "start_time": "2022-09-22T06:05:43.264Z"
   },
   {
    "duration": 6,
    "start_time": "2022-09-22T06:07:11.003Z"
   },
   {
    "duration": 5,
    "start_time": "2022-09-22T06:07:12.904Z"
   },
   {
    "duration": 1455,
    "start_time": "2022-09-22T06:19:27.236Z"
   },
   {
    "duration": 48,
    "start_time": "2022-09-22T06:19:28.693Z"
   },
   {
    "duration": 110,
    "start_time": "2022-09-22T06:19:28.742Z"
   },
   {
    "duration": 0,
    "start_time": "2022-09-22T06:19:28.854Z"
   },
   {
    "duration": 0,
    "start_time": "2022-09-22T06:19:28.855Z"
   },
   {
    "duration": 0,
    "start_time": "2022-09-22T06:19:28.856Z"
   },
   {
    "duration": 0,
    "start_time": "2022-09-22T06:19:28.857Z"
   },
   {
    "duration": 0,
    "start_time": "2022-09-22T06:19:28.858Z"
   },
   {
    "duration": 0,
    "start_time": "2022-09-22T06:19:28.859Z"
   },
   {
    "duration": 9,
    "start_time": "2022-09-22T06:23:15.288Z"
   },
   {
    "duration": 7,
    "start_time": "2022-09-22T06:26:08.244Z"
   },
   {
    "duration": 36,
    "start_time": "2022-09-22T06:26:17.159Z"
   },
   {
    "duration": 4,
    "start_time": "2022-09-22T06:26:49.979Z"
   },
   {
    "duration": 53,
    "start_time": "2022-09-22T06:26:59.858Z"
   },
   {
    "duration": 5,
    "start_time": "2022-09-22T06:29:01.934Z"
   },
   {
    "duration": 8,
    "start_time": "2022-09-22T06:33:41.419Z"
   },
   {
    "duration": 4,
    "start_time": "2022-09-22T06:33:49.138Z"
   },
   {
    "duration": 6,
    "start_time": "2022-09-22T06:34:18.858Z"
   },
   {
    "duration": 4,
    "start_time": "2022-09-22T06:34:19.960Z"
   },
   {
    "duration": 5,
    "start_time": "2022-09-22T06:34:21.207Z"
   },
   {
    "duration": 3,
    "start_time": "2022-09-22T06:34:21.775Z"
   },
   {
    "duration": 6,
    "start_time": "2022-09-22T06:36:22.866Z"
   },
   {
    "duration": 3,
    "start_time": "2022-09-22T06:36:43.916Z"
   },
   {
    "duration": 5,
    "start_time": "2022-09-22T06:37:02.444Z"
   },
   {
    "duration": 3,
    "start_time": "2022-09-22T06:37:10.148Z"
   },
   {
    "duration": 9,
    "start_time": "2022-09-22T06:39:41.246Z"
   },
   {
    "duration": 6,
    "start_time": "2022-09-22T06:40:12.760Z"
   },
   {
    "duration": 1734,
    "start_time": "2022-09-22T06:40:19.786Z"
   },
   {
    "duration": 48,
    "start_time": "2022-09-22T06:40:21.522Z"
   },
   {
    "duration": 3,
    "start_time": "2022-09-22T06:40:21.571Z"
   },
   {
    "duration": 6,
    "start_time": "2022-09-22T06:40:21.576Z"
   },
   {
    "duration": 7,
    "start_time": "2022-09-22T06:40:21.583Z"
   },
   {
    "duration": 7,
    "start_time": "2022-09-22T06:40:21.592Z"
   },
   {
    "duration": 5,
    "start_time": "2022-09-22T06:40:21.600Z"
   },
   {
    "duration": 5,
    "start_time": "2022-09-22T06:40:21.606Z"
   },
   {
    "duration": 9,
    "start_time": "2022-09-22T06:40:21.612Z"
   },
   {
    "duration": 125,
    "start_time": "2022-09-22T06:40:21.623Z"
   },
   {
    "duration": 0,
    "start_time": "2022-09-22T06:40:21.750Z"
   },
   {
    "duration": 0,
    "start_time": "2022-09-22T06:40:21.751Z"
   },
   {
    "duration": 0,
    "start_time": "2022-09-22T06:40:21.753Z"
   },
   {
    "duration": 0,
    "start_time": "2022-09-22T06:40:21.754Z"
   },
   {
    "duration": 463,
    "start_time": "2022-09-22T06:40:43.625Z"
   },
   {
    "duration": 19,
    "start_time": "2022-09-22T06:43:27.641Z"
   },
   {
    "duration": 95759,
    "start_time": "2022-09-22T06:43:40.425Z"
   },
   {
    "duration": 8,
    "start_time": "2022-09-22T06:48:57.955Z"
   },
   {
    "duration": 31,
    "start_time": "2022-09-22T06:49:29.470Z"
   },
   {
    "duration": 28,
    "start_time": "2022-09-22T06:49:40.257Z"
   },
   {
    "duration": 4,
    "start_time": "2022-09-22T06:50:27.332Z"
   },
   {
    "duration": 9,
    "start_time": "2022-09-22T06:52:52.780Z"
   },
   {
    "duration": 11,
    "start_time": "2022-09-22T06:56:38.125Z"
   },
   {
    "duration": 15,
    "start_time": "2022-09-22T06:56:46.143Z"
   },
   {
    "duration": 6,
    "start_time": "2022-09-22T06:56:53.884Z"
   },
   {
    "duration": 1383,
    "start_time": "2022-09-22T06:58:54.256Z"
   },
   {
    "duration": 30,
    "start_time": "2022-09-22T07:01:57.803Z"
   },
   {
    "duration": 964,
    "start_time": "2022-09-22T07:06:03.064Z"
   },
   {
    "duration": 863,
    "start_time": "2022-09-22T07:06:09.359Z"
   },
   {
    "duration": 77,
    "start_time": "2022-09-22T07:06:46.034Z"
   },
   {
    "duration": 27,
    "start_time": "2022-09-22T07:08:07.995Z"
   },
   {
    "duration": 3,
    "start_time": "2022-09-22T07:08:40.037Z"
   },
   {
    "duration": 16,
    "start_time": "2022-09-22T07:10:32.513Z"
   },
   {
    "duration": 6,
    "start_time": "2022-09-22T07:10:52.874Z"
   },
   {
    "duration": 14,
    "start_time": "2022-09-22T07:11:03.557Z"
   },
   {
    "duration": 1855,
    "start_time": "2022-09-22T10:19:41.020Z"
   },
   {
    "duration": 48,
    "start_time": "2022-09-22T10:19:42.878Z"
   },
   {
    "duration": 3,
    "start_time": "2022-09-22T10:19:42.927Z"
   },
   {
    "duration": 6,
    "start_time": "2022-09-22T10:19:42.932Z"
   },
   {
    "duration": 9,
    "start_time": "2022-09-22T10:19:42.940Z"
   },
   {
    "duration": 9,
    "start_time": "2022-09-22T10:19:42.951Z"
   },
   {
    "duration": 3,
    "start_time": "2022-09-22T10:19:42.962Z"
   },
   {
    "duration": 6,
    "start_time": "2022-09-22T10:19:42.966Z"
   },
   {
    "duration": 1892,
    "start_time": "2022-09-22T10:19:42.974Z"
   },
   {
    "duration": 24,
    "start_time": "2022-09-22T10:19:44.869Z"
   },
   {
    "duration": 1084,
    "start_time": "2022-09-22T10:19:44.895Z"
   },
   {
    "duration": 55,
    "start_time": "2022-09-22T10:19:45.981Z"
   },
   {
    "duration": 3,
    "start_time": "2022-09-22T10:19:46.038Z"
   },
   {
    "duration": 540,
    "start_time": "2022-09-22T10:19:46.043Z"
   },
   {
    "duration": 3,
    "start_time": "2022-09-22T10:19:46.585Z"
   },
   {
    "duration": 107594,
    "start_time": "2022-09-22T10:19:46.589Z"
   },
   {
    "duration": 2,
    "start_time": "2022-09-22T10:21:34.186Z"
   },
   {
    "duration": 64,
    "start_time": "2022-09-22T10:21:34.189Z"
   },
   {
    "duration": 4,
    "start_time": "2022-09-22T10:21:34.255Z"
   },
   {
    "duration": 22,
    "start_time": "2022-09-22T10:21:34.262Z"
   },
   {
    "duration": 7,
    "start_time": "2022-09-22T10:21:34.285Z"
   },
   {
    "duration": 54,
    "start_time": "2022-09-22T11:09:59.371Z"
   },
   {
    "duration": 8,
    "start_time": "2022-09-22T11:13:35.170Z"
   },
   {
    "duration": 1811,
    "start_time": "2022-09-22T11:13:41.550Z"
   },
   {
    "duration": 103,
    "start_time": "2022-09-22T11:13:43.363Z"
   },
   {
    "duration": 3,
    "start_time": "2022-09-22T11:13:43.468Z"
   },
   {
    "duration": 9,
    "start_time": "2022-09-22T11:13:43.473Z"
   },
   {
    "duration": 12,
    "start_time": "2022-09-22T11:13:43.484Z"
   },
   {
    "duration": 8,
    "start_time": "2022-09-22T11:13:43.498Z"
   },
   {
    "duration": 7,
    "start_time": "2022-09-22T11:13:43.508Z"
   },
   {
    "duration": 11,
    "start_time": "2022-09-22T11:13:43.516Z"
   },
   {
    "duration": 1667,
    "start_time": "2022-09-22T11:13:43.528Z"
   },
   {
    "duration": 21,
    "start_time": "2022-09-22T11:13:45.198Z"
   },
   {
    "duration": 1064,
    "start_time": "2022-09-22T11:13:45.221Z"
   },
   {
    "duration": 58,
    "start_time": "2022-09-22T11:13:46.288Z"
   },
   {
    "duration": 3,
    "start_time": "2022-09-22T11:13:46.348Z"
   },
   {
    "duration": 524,
    "start_time": "2022-09-22T11:13:46.353Z"
   },
   {
    "duration": 10,
    "start_time": "2022-09-22T11:13:46.879Z"
   },
   {
    "duration": 104125,
    "start_time": "2022-09-22T11:13:46.892Z"
   },
   {
    "duration": 2,
    "start_time": "2022-09-22T11:15:31.018Z"
   },
   {
    "duration": 66,
    "start_time": "2022-09-22T11:15:31.022Z"
   },
   {
    "duration": 5,
    "start_time": "2022-09-22T11:15:31.090Z"
   },
   {
    "duration": 0,
    "start_time": "2022-09-22T11:15:31.230Z"
   },
   {
    "duration": 0,
    "start_time": "2022-09-22T11:15:31.238Z"
   },
   {
    "duration": 20,
    "start_time": "2022-09-22T11:17:49.388Z"
   },
   {
    "duration": 9,
    "start_time": "2022-09-22T11:19:22.635Z"
   },
   {
    "duration": 210,
    "start_time": "2022-09-22T11:19:30.111Z"
   },
   {
    "duration": 18,
    "start_time": "2022-09-22T11:25:29.772Z"
   },
   {
    "duration": 12,
    "start_time": "2022-09-22T11:26:08.389Z"
   },
   {
    "duration": 82,
    "start_time": "2022-09-22T11:26:45.322Z"
   },
   {
    "duration": 79,
    "start_time": "2022-09-22T11:27:54.276Z"
   },
   {
    "duration": 88,
    "start_time": "2022-09-22T11:28:08.397Z"
   },
   {
    "duration": 80,
    "start_time": "2022-09-22T11:28:13.568Z"
   },
   {
    "duration": 218,
    "start_time": "2022-09-22T11:28:23.657Z"
   },
   {
    "duration": 222,
    "start_time": "2022-09-22T11:29:22.647Z"
   },
   {
    "duration": 58,
    "start_time": "2022-09-22T11:29:32.134Z"
   },
   {
    "duration": 220,
    "start_time": "2022-09-22T11:31:18.592Z"
   },
   {
    "duration": 223,
    "start_time": "2022-09-22T11:31:45.396Z"
   },
   {
    "duration": 68,
    "start_time": "2022-09-22T11:32:09.365Z"
   },
   {
    "duration": 227,
    "start_time": "2022-09-22T11:33:11.156Z"
   },
   {
    "duration": 216,
    "start_time": "2022-09-22T11:33:27.226Z"
   },
   {
    "duration": 225,
    "start_time": "2022-09-22T11:33:37.220Z"
   },
   {
    "duration": 87,
    "start_time": "2022-09-22T11:34:05.928Z"
   },
   {
    "duration": 178,
    "start_time": "2022-09-22T11:34:13.093Z"
   },
   {
    "duration": 14,
    "start_time": "2022-09-22T11:39:44.576Z"
   },
   {
    "duration": 198,
    "start_time": "2022-09-22T11:39:52.726Z"
   },
   {
    "duration": 71,
    "start_time": "2022-09-22T11:43:05.192Z"
   },
   {
    "duration": 67,
    "start_time": "2022-09-22T11:43:15.460Z"
   },
   {
    "duration": 165,
    "start_time": "2022-09-22T11:43:17.320Z"
   },
   {
    "duration": 59,
    "start_time": "2022-09-22T11:43:23.890Z"
   },
   {
    "duration": 169,
    "start_time": "2022-09-22T11:43:25.798Z"
   },
   {
    "duration": 59,
    "start_time": "2022-09-22T11:43:32.537Z"
   },
   {
    "duration": 59,
    "start_time": "2022-09-22T11:43:56.691Z"
   },
   {
    "duration": 170,
    "start_time": "2022-09-22T11:44:03.342Z"
   }
  ],
  "kernelspec": {
   "display_name": "Python 3 (ipykernel)",
   "language": "python",
   "name": "python3"
  },
  "language_info": {
   "codemirror_mode": {
    "name": "ipython",
    "version": 3
   },
   "file_extension": ".py",
   "mimetype": "text/x-python",
   "name": "python",
   "nbconvert_exporter": "python",
   "pygments_lexer": "ipython3",
   "version": "3.9.5"
  },
  "toc": {
   "base_numbering": 1,
   "nav_menu": {},
   "number_sections": true,
   "sideBar": true,
   "skip_h1_title": true,
   "title_cell": "Table of Contents",
   "title_sidebar": "Contents",
   "toc_cell": false,
   "toc_position": {},
   "toc_section_display": true,
   "toc_window_display": false
  }
 },
 "nbformat": 4,
 "nbformat_minor": 2
}
